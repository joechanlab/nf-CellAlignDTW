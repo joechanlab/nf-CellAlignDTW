{
 "cells": [
  {
   "cell_type": "code",
   "execution_count": null,
   "id": "9d4dadf8-1697-4fe3-8275-5f85931af75d",
   "metadata": {},
   "outputs": [],
   "source": [
    "import pandas as pd\n",
    "import numpy as np\n",
    "import matplotlib.pyplot as plt\n",
    "import CellAlignDTW\n",
    "from CellAlignDTW.pl import *\n",
    "import gseapy as gp\n",
    "import seaborn as sns\n",
    "from matplotlib.colors import LogNorm"
   ]
  },
  {
   "cell_type": "code",
   "execution_count": null,
   "id": "6d35d66b-08f0-455c-82b8-44de6db21374",
   "metadata": {},
   "outputs": [],
   "source": [
    "summary_df = pd.read_csv(summary_df_path, index_col=0)\n",
    "gene_curves = pd.read_csv(aggregated_curves_path, index_col=0)\n",
    "scores_df = pd.read_csv(scores_df_path, index_col=0)\n",
    "clusters = cluster_ordering.split(\"_\")\n",
    "color_map = {'NSCLC': 'gold',\n",
    "             'SCLC-A': 'tab:red',\n",
    "             'SCLC-N': 'tab:cyan',\n",
    "             'SCLC-AN': 'black'}\n",
    "colors = [color_map[x] for x in clusters]\n",
    "scores_df.head(n = 20)"
   ]
  },
  {
   "cell_type": "code",
   "execution_count": null,
   "id": "89bb2c15-c7d5-4b11-82bb-b9f2436ee592",
   "metadata": {},
   "outputs": [],
   "source": [
    "sorted_gene_curve, row_colors, col_colors, categories = CellAlignDTW.process_gene_data(scores_df, gene_curves, colors)"
   ]
  },
  {
   "cell_type": "code",
   "execution_count": null,
   "id": "f0432f25-0250-494e-93ee-f2e2f73bd191",
   "metadata": {},
   "outputs": [],
   "source": [
    "\n",
    "plot_kshape_clustering(sorted_gene_curve, categories)"
   ]
  },
  {
   "cell_type": "code",
   "execution_count": null,
   "id": "579f49eb-8ab7-435f-a75d-720a98a2a4c8",
   "metadata": {},
   "outputs": [],
   "source": [
    "CellAlignDTW.pl.plot_gene_clusters(sorted_gene_curve, row_colors, col_colors, cluster_ordering)"
   ]
  },
  {
   "cell_type": "code",
   "execution_count": null,
   "id": "b36c7daf-b884-4d11-9e81-41957c54186b",
   "metadata": {},
   "outputs": [],
   "source": [
    "gene_info = pd.DataFrame({'gene': sorted_gene_curve.index, 'category': categories})\n",
    "\n",
    "early_gene_list = gene_info.gene[gene_info.category == 'early']\n",
    "intermediate_gene_list = gene_info.gene[gene_info.category == 'intermediate']\n",
    "late_gene_list = gene_info.gene[gene_info.category == 'late']\n",
    "\n",
    "gene_sets = ['CellMarker_2024', 'CellMarker_Augmented_2021', 'PanglaoDB_Augmented_2021', 'HuBMAP_ASCTplusB_augmented_2022']\n",
    "\n",
    "enr = gp.enrichr(gene_list=early_gene_list, # or \"./tests/data/gene_list.txt\",\n",
    "                 gene_sets=gene_sets,\n",
    "                 organism='human', # don't forget to set organism to the one you desired! e.g. Yeast\n",
    "                 outdir=None, # don't write to disk\n",
    "                 cutoff = 1\n",
    "                )\n",
    "early_results = enr.results\n",
    "\n",
    "enr = gp.enrichr(gene_list=intermediate_gene_list, # or \"./tests/data/gene_list.txt\",\n",
    "                 gene_sets=gene_sets,\n",
    "                 organism='human', # don't forget to set organism to the one you desired! e.g. Yeast\n",
    "                 outdir=None, # don't write to disk\n",
    "                 cutoff = 1\n",
    "                )\n",
    "intermediate_results = enr.results\n",
    "\n",
    "enr = gp.enrichr(gene_list=late_gene_list, # or \"./tests/data/gene_list.txt\",\n",
    "                 gene_sets=gene_sets,\n",
    "                 organism='human', # don't forget to set organism to the one you desired! e.g. Yeast\n",
    "                 outdir=None, # don't write to disk\n",
    "                 cutoff = 1\n",
    "                )\n",
    "late_results = enr.results\n",
    "\n",
    "early_results.loc[:,'category'] = 'early'\n",
    "intermediate_results.loc[:,'category'] = 'intermediate'\n",
    "late_results.loc[:,'category'] = 'late'\n",
    "results = pd.concat([early_results, intermediate_results, late_results])"
   ]
  },
  {
   "cell_type": "code",
   "execution_count": null,
   "id": "b396dde9-ccdd-4280-a3ad-4c8bcb69f54e",
   "metadata": {},
   "outputs": [],
   "source": [
    "terms = ['Secretory Cell Lung Human', 'Krt4/13+ Cell Trachea Mouse', 'Basal Cell Of Prostatic urethra - Prostate Gland', 'Cancer Stem cell:Peripheral Blood', \n",
    "         'Cycling Basal Cell Trachea Mouse', 'Vascular Stem cell:Blood', 'Neural Progenitor Cell Embryonic Prefrontal Cortex Human', 'Neural Stem Cell Brain Mouse', \n",
    "         'Immature neuron:Undefined', 'Neuroendocrine Cell Trachea Mouse', 'Endothelial Cell Fetal Gonad Human']\n",
    "heatmap_long = results.loc[np.isin(results.Term, terms), ['Term', 'category', 'Odds Ratio', 'Adjusted P-value']]\n",
    "heatmap_long['Term'] = pd.Categorical(heatmap_long['Term'], categories=terms[::-1], ordered=True)\n",
    "heatmap_long['category'] = pd.Categorical(heatmap_long['category'], categories=['early', 'intermediate', 'late'], ordered=True)\n",
    "\n",
    "plt.figure(figsize=(8, 4))\n",
    "sns.scatterplot(data=heatmap_long, x='category', y='Term', size='Odds Ratio', sizes=(20, 200), \n",
    "                hue='Adjusted P-value', palette='viridis_r', hue_norm=LogNorm())\n",
    "plt.xticks(rotation=45)\n",
    "plt.xlabel('')\n",
    "plt.ylabel('')\n",
    "plt.legend(bbox_to_anchor=(1.05, 1), loc='upper left')\n",
    "plt.xlim(-0.5, len(heatmap_long['category'].unique()) - 0.5)\n",
    "plt.ylim(-0.5, len(heatmap_long['Term'].unique()) - 0.5)\n",
    "plt.tight_layout()\n",
    "plt.show()"
   ]
  },
  {
   "cell_type": "code",
   "execution_count": null,
   "id": "6a5d08e6-3bc9-4bbc-8305-bf42b47b4e71",
   "metadata": {},
   "outputs": [],
   "source": [
    "early_results.groupby(\"Gene_set\").apply(lambda x: x.sort_values(by=\"P-value\").head(5)).reset_index(drop=True)"
   ]
  },
  {
   "cell_type": "code",
   "execution_count": null,
   "id": "04039c6e-a4fa-4328-94a6-b6ea369d075f",
   "metadata": {},
   "outputs": [],
   "source": [
    "intermediate_results.groupby(\"Gene_set\").apply(lambda x: x.sort_values(by=\"P-value\").head(5)).reset_index(drop=True)"
   ]
  },
  {
   "cell_type": "code",
   "execution_count": null,
   "id": "d1c9ff6e-ec75-4646-b16b-989992bea916",
   "metadata": {},
   "outputs": [],
   "source": [
    "late_results.groupby(\"Gene_set\").apply(lambda x: x.sort_values(by=\"P-value\").head(5)).reset_index(drop=True)"
   ]
  }
 ],
 "metadata": {
  "kernelspec": {
   "display_name": "[conda] tslearn",
   "language": "python",
   "name": "tslearn"
  },
  "language_info": {
   "codemirror_mode": {
    "name": "ipython",
    "version": 3
   },
   "file_extension": ".py",
   "mimetype": "text/x-python",
   "name": "python",
   "nbconvert_exporter": "python",
   "pygments_lexer": "ipython3",
   "version": "3.12.6"
  }
 },
 "nbformat": 4,
 "nbformat_minor": 5
}
